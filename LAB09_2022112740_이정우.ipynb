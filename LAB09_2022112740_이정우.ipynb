{
 "cells": [
  {
   "cell_type": "code",
   "execution_count": 5,
   "id": "a13c4ff4",
   "metadata": {},
   "outputs": [
    {
     "data": {
      "text/plain": [
       "100"
      ]
     },
     "execution_count": 5,
     "metadata": {},
     "output_type": "execute_result"
    }
   ],
   "source": [
    "(200).__sub__(100)"
   ]
  },
  {
   "cell_type": "code",
   "execution_count": 6,
   "id": "e2b498de",
   "metadata": {},
   "outputs": [
    {
     "data": {
      "text/plain": [
       "20000"
      ]
     },
     "execution_count": 6,
     "metadata": {},
     "output_type": "execute_result"
    }
   ],
   "source": [
    "(200).__mul__(100)\n"
   ]
  },
  {
   "cell_type": "code",
   "execution_count": 7,
   "id": "0e6dce43",
   "metadata": {},
   "outputs": [
    {
     "data": {
      "text/plain": [
       "2.0"
      ]
     },
     "execution_count": 7,
     "metadata": {},
     "output_type": "execute_result"
    }
   ],
   "source": [
    "(200).__truediv__(100)"
   ]
  },
  {
   "cell_type": "code",
   "execution_count": 4,
   "id": "06acc4fa",
   "metadata": {},
   "outputs": [
    {
     "data": {
      "text/plain": [
       "40"
      ]
     },
     "execution_count": 4,
     "metadata": {},
     "output_type": "execute_result"
    }
   ],
   "source": [
    "[10, 20, 30, 40].pop()"
   ]
  },
  {
   "cell_type": "code",
   "execution_count": 8,
   "id": "97a9b49d",
   "metadata": {},
   "outputs": [
    {
     "data": {
      "text/plain": [
       "['__abs__',\n",
       " '__add__',\n",
       " '__and__',\n",
       " '__bool__',\n",
       " '__ceil__',\n",
       " '__class__',\n",
       " '__delattr__',\n",
       " '__dir__',\n",
       " '__divmod__',\n",
       " '__doc__',\n",
       " '__eq__',\n",
       " '__float__',\n",
       " '__floor__',\n",
       " '__floordiv__',\n",
       " '__format__',\n",
       " '__ge__',\n",
       " '__getattribute__',\n",
       " '__getnewargs__',\n",
       " '__gt__',\n",
       " '__hash__',\n",
       " '__index__',\n",
       " '__init__',\n",
       " '__init_subclass__',\n",
       " '__int__',\n",
       " '__invert__',\n",
       " '__le__',\n",
       " '__lshift__',\n",
       " '__lt__',\n",
       " '__mod__',\n",
       " '__mul__',\n",
       " '__ne__',\n",
       " '__neg__',\n",
       " '__new__',\n",
       " '__or__',\n",
       " '__pos__',\n",
       " '__pow__',\n",
       " '__radd__',\n",
       " '__rand__',\n",
       " '__rdivmod__',\n",
       " '__reduce__',\n",
       " '__reduce_ex__',\n",
       " '__repr__',\n",
       " '__rfloordiv__',\n",
       " '__rlshift__',\n",
       " '__rmod__',\n",
       " '__rmul__',\n",
       " '__ror__',\n",
       " '__round__',\n",
       " '__rpow__',\n",
       " '__rrshift__',\n",
       " '__rshift__',\n",
       " '__rsub__',\n",
       " '__rtruediv__',\n",
       " '__rxor__',\n",
       " '__setattr__',\n",
       " '__sizeof__',\n",
       " '__str__',\n",
       " '__sub__',\n",
       " '__subclasshook__',\n",
       " '__truediv__',\n",
       " '__trunc__',\n",
       " '__xor__',\n",
       " 'as_integer_ratio',\n",
       " 'bit_length',\n",
       " 'conjugate',\n",
       " 'denominator',\n",
       " 'from_bytes',\n",
       " 'imag',\n",
       " 'numerator',\n",
       " 'real',\n",
       " 'to_bytes']"
      ]
     },
     "execution_count": 8,
     "metadata": {},
     "output_type": "execute_result"
    }
   ],
   "source": [
    "dir(int)"
   ]
  },
  {
   "cell_type": "code",
   "execution_count": 9,
   "id": "b1fdf408",
   "metadata": {},
   "outputs": [
    {
     "data": {
      "text/plain": [
       "['__add__',\n",
       " '__class__',\n",
       " '__class_getitem__',\n",
       " '__contains__',\n",
       " '__delattr__',\n",
       " '__delitem__',\n",
       " '__dir__',\n",
       " '__doc__',\n",
       " '__eq__',\n",
       " '__format__',\n",
       " '__ge__',\n",
       " '__getattribute__',\n",
       " '__getitem__',\n",
       " '__gt__',\n",
       " '__hash__',\n",
       " '__iadd__',\n",
       " '__imul__',\n",
       " '__init__',\n",
       " '__init_subclass__',\n",
       " '__iter__',\n",
       " '__le__',\n",
       " '__len__',\n",
       " '__lt__',\n",
       " '__mul__',\n",
       " '__ne__',\n",
       " '__new__',\n",
       " '__reduce__',\n",
       " '__reduce_ex__',\n",
       " '__repr__',\n",
       " '__reversed__',\n",
       " '__rmul__',\n",
       " '__setattr__',\n",
       " '__setitem__',\n",
       " '__sizeof__',\n",
       " '__str__',\n",
       " '__subclasshook__',\n",
       " 'append',\n",
       " 'clear',\n",
       " 'copy',\n",
       " 'count',\n",
       " 'extend',\n",
       " 'index',\n",
       " 'insert',\n",
       " 'pop',\n",
       " 'remove',\n",
       " 'reverse',\n",
       " 'sort']"
      ]
     },
     "execution_count": 9,
     "metadata": {},
     "output_type": "execute_result"
    }
   ],
   "source": [
    "dir(list)"
   ]
  },
  {
   "cell_type": "code",
   "execution_count": 10,
   "id": "69a57044",
   "metadata": {},
   "outputs": [
    {
     "name": "stdout",
     "output_type": "stream",
     "text": [
      "멍멍~~\n"
     ]
    }
   ],
   "source": [
    "class Dog:\n",
    "    def bark(self):\n",
    "        print('멍멍~~')\n",
    "\n",
    "my_dog = Dog()\n",
    "my_dog.bark()"
   ]
  },
  {
   "cell_type": "code",
   "execution_count": 11,
   "id": "a069cebf",
   "metadata": {},
   "outputs": [
    {
     "name": "stdout",
     "output_type": "stream",
     "text": [
      "멍멍~~\n"
     ]
    }
   ],
   "source": [
    "class Dog:\n",
    "    \n",
    "    def __init__(self, name):\n",
    "        self.name = name\n",
    "        \n",
    "    def bark(self):\n",
    "        print('멍멍~~')\n",
    "\n",
    "my_dog = Dog('Jindo')\n",
    "my_dog.bark()"
   ]
  },
  {
   "cell_type": "code",
   "execution_count": 15,
   "id": "5f935125",
   "metadata": {},
   "outputs": [
    {
     "name": "stdout",
     "output_type": "stream",
     "text": [
      "my_dog의 정보 : Dog(name = Jindo)\n"
     ]
    }
   ],
   "source": [
    "class Dog:\n",
    "    \n",
    "    def __init__(self, name):\n",
    "        self.name = name\n",
    "    \n",
    "    def __str__(self):\n",
    "        return 'my_dog의 정보 : Dog(name = '+self.name+')'\n",
    "    \n",
    "my_dog = Dog('Jindo')\n",
    "\n",
    "print(my_dog)\n"
   ]
  },
  {
   "cell_type": "code",
   "execution_count": 16,
   "id": "e428f723",
   "metadata": {},
   "outputs": [
    {
     "name": "stdout",
     "output_type": "stream",
     "text": [
      "n is m\n"
     ]
    }
   ],
   "source": [
    "n = 100\n",
    "m = 100\n",
    "if n is m:\n",
    "    print('n is m')\n",
    "else:\n",
    "    print('n is not m')"
   ]
  },
  {
   "cell_type": "code",
   "execution_count": 24,
   "id": "34e61602",
   "metadata": {},
   "outputs": [
    {
     "name": "stdout",
     "output_type": "stream",
     "text": [
      "v1 * v2 = (300, 800)\n",
      "v1 / v2 = (3.0, 2.0)\n",
      "-v1 = (-10, -20)\n"
     ]
    }
   ],
   "source": [
    "class Vector2D:\n",
    "    \n",
    "    def __init__(self, x, y):\n",
    "        self.x = x\n",
    "        self.y = y\n",
    "        \n",
    "    def __mul__(self, other):\n",
    "        return Vector2D(self.x * other.x, self.y * other.y)\n",
    "        \n",
    "    def __truediv__(self, other):\n",
    "        return Vector2D(self.x / other.x, self.y / other.y)\n",
    "    \n",
    "    def __neg__(self):\n",
    "        return Vector2D(-self.x, -self.y)\n",
    "    \n",
    "    def __str__(self):\n",
    "        return \"({}, {})\".format(self.x, self.y)\n",
    "        \n",
    "v1 = Vector2D(30, 40)\n",
    "v2 = Vector2D(10, 20)\n",
    "\n",
    "v3 = v1 * v2\n",
    "v4 = v1 / v2\n",
    "print('v1 * v2 =', v3)\n",
    "print('v1 / v2 =', v4)\n",
    "print('-v1 =', -v2) \n",
    "\n"
   ]
  },
  {
   "cell_type": "code",
   "execution_count": 25,
   "id": "23954ae0",
   "metadata": {},
   "outputs": [
    {
     "name": "stdout",
     "output_type": "stream",
     "text": [
      "v1 > v2 = True\n",
      "v1 >= v2 = True\n",
      "v1 < v2 = False\n",
      "v1 <= v2 = False\n"
     ]
    }
   ],
   "source": [
    "class Vector2D:\n",
    "    \n",
    "    def __init__(self, x, y):\n",
    "        self.x = x\n",
    "        self.y = y\n",
    "        \n",
    "    def __lt__(self, other):\n",
    "        if(self.x < other.x and self.y < other.y):\n",
    "            return True\n",
    "        else:\n",
    "            return False\n",
    "    \n",
    "    def __le__(self, other):\n",
    "        if(self.x <= other.x and self.y <= other.y):\n",
    "            return True\n",
    "        else:\n",
    "            return False\n",
    "    \n",
    "    def __ge__(self, other):\n",
    "        if(self.x >= other.x and self.y >= other.y):\n",
    "            return True\n",
    "        else:\n",
    "            return False\n",
    "        \n",
    "    def __gt__(self, other):  \n",
    "        if(self.x > other.x and self.y > other.y):\n",
    "            return True\n",
    "        else:\n",
    "            return False\n",
    "    \n",
    "        \n",
    "v1 = Vector2D(30, 40)\n",
    "v2 = Vector2D(10, 20)\n",
    "\n",
    "print('v1 > v2 =', v1 > v2)\n",
    "print('v1 >= v2 =', v1 >= v2)\n",
    "print('v1 < v2 =', v1 < v2)\n",
    "print('v1 <= v2 =', v1 <= v2)\n",
    "\n"
   ]
  },
  {
   "cell_type": "code",
   "execution_count": 26,
   "id": "e5d7f18e",
   "metadata": {},
   "outputs": [
    {
     "name": "stdout",
     "output_type": "stream",
     "text": [
      "{'width': 100, 'height': 200}\n",
      "100\n"
     ]
    }
   ],
   "source": [
    "class Rect:\n",
    "    def __init__(self, width, height):\n",
    "        self.width = width\n",
    "        self.height = height\n",
    "        \n",
    "r1 = Rect(100, 200)\n",
    "print(r1.__dict__)\n",
    "print(r1.__dict__['width'])"
   ]
  },
  {
   "cell_type": "code",
   "execution_count": 27,
   "id": "b556fa54",
   "metadata": {},
   "outputs": [
    {
     "name": "stdout",
     "output_type": "stream",
     "text": [
      "{'_Rect__width': 100, '_Rect__height': 200}\n",
      "100\n"
     ]
    }
   ],
   "source": [
    "class Rect:\n",
    "    def __init__(self, width, height):\n",
    "        self.__width = width\n",
    "        self.__height = height\n",
    "        \n",
    "r1 = Rect(100, 200)\n",
    "print(r1.__dict__)\n",
    "print(r1.__dict__['_Rect__width'])"
   ]
  },
  {
   "cell_type": "code",
   "execution_count": null,
   "id": "7086830c",
   "metadata": {},
   "outputs": [],
   "source": []
  }
 ],
 "metadata": {
  "kernelspec": {
   "display_name": "Python 3 (ipykernel)",
   "language": "python",
   "name": "python3"
  },
  "language_info": {
   "codemirror_mode": {
    "name": "ipython",
    "version": 3
   },
   "file_extension": ".py",
   "mimetype": "text/x-python",
   "name": "python",
   "nbconvert_exporter": "python",
   "pygments_lexer": "ipython3",
   "version": "3.9.12"
  }
 },
 "nbformat": 4,
 "nbformat_minor": 5
}
